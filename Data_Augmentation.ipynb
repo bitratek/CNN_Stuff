{
  "nbformat": 4,
  "nbformat_minor": 0,
  "metadata": {
    "colab": {
      "provenance": []
    },
    "kernelspec": {
      "name": "python3",
      "display_name": "Python 3"
    },
    "language_info": {
      "name": "python"
    }
  },
  "cells": [
    {
      "cell_type": "markdown",
      "source": [
        "## Data Augmentation with python and Keras\n",
        "### Create Image Dataset for using data augmentation using keras"
      ],
      "metadata": {
        "id": "EdmuNCk2UCIp"
      }
    },
    {
      "cell_type": "code",
      "source": [
        "#import libraries\n",
        "from keras.preprocessing.image import ImageDataGenerator\n",
        "from tensorflow.keras.utils import img_to_array, array_to_img, load_img"
      ],
      "metadata": {
        "id": "H3Dq69qOUPv8"
      },
      "execution_count": 7,
      "outputs": []
    },
    {
      "cell_type": "code",
      "source": [
        "datagen = ImageDataGenerator(\n",
        "    rotation_range=40,\n",
        "    width_shift_range=0.2,\n",
        "    height_shift_range=0.2,\n",
        "    shear_range=0.2,\n",
        "    zoom_range=0.2,\n",
        "    horizontal_flip=True,\n",
        "    vertical_flip=True,\n",
        "    fill_mode='nearest'\n",
        ")"
      ],
      "metadata": {
        "id": "7SfH3inmUzjY"
      },
      "execution_count": 8,
      "outputs": []
    },
    {
      "cell_type": "code",
      "source": [
        "img = load_img('/content/drive/MyDrive/dataset/catsndogs/9727.jpg')\n",
        "x = img_to_array(img)\n",
        "x = x.reshape((1,) + x.shape)\n",
        "\n",
        "i=0\n",
        "for batch in datagen.flow(x, batch_size=1, save_to_dir='/content/drive/MyDrive/dataset/catsndogs/preview', save_prefix='dog', save_format='jpeg'):\n",
        "  i += 1;\n",
        "  if i > 20:\n",
        "    break\n",
        "\n"
      ],
      "metadata": {
        "id": "z1-Gt-PtWREu"
      },
      "execution_count": 11,
      "outputs": []
    },
    {
      "cell_type": "code",
      "source": [],
      "metadata": {
        "id": "Tz9IsYiTj97J"
      },
      "execution_count": null,
      "outputs": []
    }
  ]
}